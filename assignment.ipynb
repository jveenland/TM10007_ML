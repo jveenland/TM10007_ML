{
  "cells": [
    {
      "cell_type": "markdown",
      "metadata": {
        "id": "7SXpaKwwGe5x"
      },
      "source": [
        "# TM10007 Assignment template"
      ]
    },
    {
      "cell_type": "markdown",
      "metadata": {
        "id": "YNIBQZig6LPp"
      },
      "source": [
        "## Data loading and cleaning\n",
        "\n",
        "Below are functions to load the dataset of your choice. After that, it is all up to you to create and evaluate a classification method. Beware, there may be missing values in these datasets. Good luck!"
      ]
    },
    {
      "cell_type": "code",
      "execution_count": 1,
      "metadata": {
        "colab": {
          "base_uri": "https://localhost:8080/",
          "height": 397
        },
        "id": "-NE_fTbKGe5z",
        "outputId": "eec4b482-f998-4f1b-e736-3b9db9970032"
      },
      "outputs": [],
      "source": [
        "# import packages\n",
        "import os\n",
        "import pandas as pd\n",
        "import numpy as np\n",
        "import matplotlib.pyplot as plt\n",
        "from sklearn import metrics\n",
        "from sklearn.model_selection import train_test_split\n",
        "from sklearn.preprocessing import StandardScaler, LabelEncoder\n",
        "from sklearn.impute import SimpleImputer\n",
        "from sklearn.feature_selection import VarianceThreshold\n",
        "\n",
        "# Classifiers\n",
        "from worclipo.load_data import load_data"
      ]
    },
    {
      "attachments": {},
      "cell_type": "markdown",
      "metadata": {},
      "source": [
        "### functions"
      ]
    },
    {
      "cell_type": "code",
      "execution_count": 2,
      "metadata": {},
      "outputs": [],
      "source": [
        "# function to split the dataset into train and test\n",
        "def split_set(X,y,test_size):\n",
        "\n",
        "    if os.path.exists('./TEST_set.csv'):\n",
        "        split_action = print('TEST_set.csv already exists')\n",
        "    else:\n",
        "        split_action = print('TEST_set.csv does not exist, generating new test and training sets')\n",
        "        X_train_csv, X_test_csv, y_train_csv, y_test_csv = train_test_split(X, y, test_size=test_size, random_state=10)\n",
        "\n",
        "        TESTSET = X_test_csv.merge(y_test_csv, left_index=True, right_index=True)\n",
        "        TESTSET.to_csv('TEST_set.csv')\n",
        "\n",
        "        TRAINSET = X_train_csv.merge(y_train_csv, left_index=True, right_index=True)\n",
        "        TRAINSET.to_csv('TRAIN_set.csv')\n",
        "        return split_action\n",
        "    "
      ]
    },
    {
      "attachments": {},
      "cell_type": "markdown",
      "metadata": {},
      "source": [
        "# setting up the data to be processed"
      ]
    },
    {
      "cell_type": "code",
      "execution_count": 3,
      "metadata": {},
      "outputs": [
        {
          "name": "stdout",
          "output_type": "stream",
          "text": [
            "The number of samples: 115\n",
            "The number of columns: 494\n",
            "<class 'pandas.core.frame.DataFrame'>\n",
            "['liposarcoma', 'lipoma']\n",
            "Categories (2, object): ['liposarcoma' < 'lipoma']\n"
          ]
        }
      ],
      "source": [
        "data = load_data()\n",
        "print(f'The number of samples: {len(data.index)}')\n",
        "print(f'The number of columns: {len(data.columns)}')\n",
        "print(type(data))\n",
        "\n",
        "# change lipoma = 1 and liposarcoma = 0 and encode labels\n",
        "group_names = list(set(data.label))\n",
        "data.loc[data['label'] == 'lipoma', 'label'] = 1\n",
        "data.loc[data['label'] == 'liposarcoma', 'label'] = 0\n",
        "data['label'] = pd.cut(data['label'], bins = 2, labels=group_names)\n",
        "print(data['label'].unique())\n",
        "label_diag = LabelEncoder()\n",
        "data['label'] = label_diag.fit_transform(data['label'])\n",
        "\n",
        "# assign X to measurements and y to outcome (lipoma/sarcoma)\n",
        "X = data.drop('label', axis=1)\n",
        "y = data['label']\n",
        "test_size = 0.3"
      ]
    },
    {
      "cell_type": "code",
      "execution_count": 4,
      "metadata": {},
      "outputs": [
        {
          "name": "stdout",
          "output_type": "stream",
          "text": [
            "TEST_set.csv already exists\n"
          ]
        }
      ],
      "source": [
        "# code that splits the data into test and validation sets if this is not done already\n",
        "split_set(X,y,test_size)"
      ]
    },
    {
      "attachments": {},
      "cell_type": "markdown",
      "metadata": {},
      "source": [
        "## import the training set"
      ]
    },
    {
      "cell_type": "code",
      "execution_count": 5,
      "metadata": {},
      "outputs": [
        {
          "name": "stdout",
          "output_type": "stream",
          "text": [
            "['liposarcoma', 'lipoma']\n",
            "Categories (2, object): ['liposarcoma' < 'lipoma']\n",
            "Size before preprocess:  (56, 493)\n",
            "Size after preprocess:  (56, 474)\n"
          ]
        }
      ],
      "source": [
        "TRAIN = pd.read_csv('TRAIN_set.csv', index_col=0)\n",
        "X_train = TRAIN.drop('label', axis=1)\n",
        "y_train = TRAIN['label']\n",
        "\n",
        "TRAIN['label'] = pd.cut(TRAIN['label'], bins = 2, labels=group_names)\n",
        "print(TRAIN['label'].unique())\n",
        "label_diag = LabelEncoder()\n",
        "TRAIN['label'] = label_diag.fit_transform(TRAIN['label'])\n",
        "\n",
        "# split into training and validation set\n",
        "X_train, X_valid, y_train, y_valid = train_test_split(X_train, y_train, test_size=0.3, random_state=10)\n",
        "\n",
        "from sklearn.pipeline import Pipeline\n",
        "\n",
        "print(f'Size before preprocess: ', X_train.shape)\n",
        "\n",
        "pipe_preprocess = Pipeline([\n",
        "    (\"check nan\", SimpleImputer(missing_values=np.nan, strategy='mean')),\n",
        "    (\"scale\", StandardScaler()),\n",
        "    (\"variance\", VarianceThreshold(threshold=0)),\n",
        "])\n",
        "\n",
        "X_train = pipe_preprocess.fit_transform(X_train)\n",
        "X_valid = pipe_preprocess.transform(X_valid)\n",
        "print(f'Size after preprocess: ', X_train.shape)"
      ]
    },
    {
      "attachments": {},
      "cell_type": "markdown",
      "metadata": {},
      "source": [
        "# Classify"
      ]
    },
    {
      "cell_type": "code",
      "execution_count": 6,
      "metadata": {},
      "outputs": [
        {
          "name": "stdout",
          "output_type": "stream",
          "text": [
            "0.7666666666666666\n",
            "Pipeline(steps=[('classifier',\n",
            "                 LogisticRegression(C=100, class_weight={0: 1, 1: 5},\n",
            "                                    random_state=1))])\n",
            "{'classifier': LogisticRegression(C=100, class_weight={0: 1, 1: 5}, random_state=1), 'classifier__C': 100, 'classifier__class_weight': {0: 1, 1: 5}, 'classifier__penalty': 'l2'}\n",
            "Test Precision: 0.5384615384615384\n",
            "Test Recall: 0.7\n",
            "Test ROC AUC Score: 0.6357142857142857\n"
          ]
        },
        {
          "name": "stderr",
          "output_type": "stream",
          "text": [
            "c:\\ProgramData\\miniconda3\\lib\\site-packages\\sklearn\\model_selection\\_validation.py:378: FitFailedWarning: \n",
            "15 fits failed out of a total of 940.\n",
            "The score on these train-test partitions for these parameters will be set to nan.\n",
            "If these failures are not expected, you can try to debug them by setting error_score='raise'.\n",
            "\n",
            "Below are more details about the failures:\n",
            "--------------------------------------------------------------------------------\n",
            "15 fits failed with the following error:\n",
            "Traceback (most recent call last):\n",
            "  File \"c:\\ProgramData\\miniconda3\\lib\\site-packages\\sklearn\\model_selection\\_validation.py\", line 686, in _fit_and_score\n",
            "    estimator.fit(X_train, y_train, **fit_params)\n",
            "  File \"c:\\ProgramData\\miniconda3\\lib\\site-packages\\sklearn\\pipeline.py\", line 406, in fit\n",
            "    self._final_estimator.fit(Xt, y, **fit_params_last_step)\n",
            "  File \"c:\\ProgramData\\miniconda3\\lib\\site-packages\\sklearn\\naive_bayes.py\", line 774, in fit\n",
            "    self._count(X, Y)\n",
            "  File \"c:\\ProgramData\\miniconda3\\lib\\site-packages\\sklearn\\naive_bayes.py\", line 896, in _count\n",
            "    check_non_negative(X, \"MultinomialNB (input X)\")\n",
            "  File \"c:\\ProgramData\\miniconda3\\lib\\site-packages\\sklearn\\utils\\validation.py\", line 1408, in check_non_negative\n",
            "    raise ValueError(\"Negative values in data passed to %s\" % whom)\n",
            "ValueError: Negative values in data passed to MultinomialNB (input X)\n",
            "\n",
            "  warnings.warn(some_fits_failed_message, FitFailedWarning)\n",
            "c:\\ProgramData\\miniconda3\\lib\\site-packages\\sklearn\\model_selection\\_search.py:953: UserWarning: One or more of the test scores are non-finite: [0.50333333 0.59777778 0.60388889 0.63666667 0.66       0.50333333\n",
            " 0.60444444 0.60055556 0.62722222 0.66       0.50333333 0.60444444\n",
            " 0.60055556 0.62722222 0.66       0.46333333 0.555      0.62555556\n",
            " 0.64       0.59666667 0.45666667 0.48       0.61555556 0.62333333\n",
            " 0.58777778 0.45666667 0.48       0.61555556 0.62333333 0.58777778\n",
            " 0.43333333 0.53444444 0.60777778 0.60555556 0.59888889 0.41\n",
            " 0.47555556 0.56       0.58333333 0.58611111 0.41       0.47555556\n",
            " 0.56       0.58333333 0.58611111 0.43       0.51666667 0.59\n",
            " 0.62       0.59888889 0.40666667 0.48722222 0.57777778 0.57611111\n",
            " 0.59333333 0.40666667 0.48722222 0.57777778 0.57611111 0.59333333\n",
            " 0.66666667 0.68777778 0.68222222 0.68222222 0.66666667 0.68111111\n",
            " 0.68111111 0.68111111 0.66666667 0.70111111 0.70111111 0.70111111\n",
            " 0.70777778 0.70777778 0.70777778 0.70777778 0.70777778 0.70777778\n",
            " 0.70777778 0.70777778 0.75333333 0.74111111 0.75888889 0.74111111\n",
            " 0.75888889 0.74111111 0.76       0.74111111 0.75333333 0.75333333\n",
            " 0.75888889 0.75444444 0.75888889 0.75444444 0.76       0.74777778\n",
            " 0.75333333 0.74777778 0.75888889 0.75444444 0.75888889 0.75444444\n",
            " 0.76       0.75444444 0.75333333 0.76111111 0.75888889 0.76111111\n",
            " 0.75888889 0.76111111 0.76       0.76111111 0.75333333 0.76111111\n",
            " 0.75888889 0.76666667 0.75888889 0.76111111 0.76       0.76111111\n",
            " 0.52333333 0.52333333 0.52055556 0.52333333 0.52333333 0.52055556\n",
            " 0.52333333 0.52333333 0.52055556 0.52333333 0.52333333 0.52055556\n",
            " 0.58666667 0.58666667 0.58055556 0.58666667 0.58666667 0.58055556\n",
            " 0.58666667 0.58666667 0.58055556 0.58666667 0.58666667 0.58055556\n",
            " 0.57666667 0.57666667 0.57666667 0.56       0.56       0.56\n",
            " 0.56       0.56       0.56       0.56       0.56       0.56\n",
            " 0.52       0.52       0.52       0.50333333 0.50333333 0.50333333\n",
            " 0.50333333 0.50333333 0.50333333 0.50333333 0.50333333 0.50333333\n",
            " 0.55388889 0.64111111 0.56777778 0.63333333        nan        nan\n",
            "        nan        nan 0.49666667 0.42333333 0.45666667 0.47166667\n",
            " 0.49666667 0.42333333 0.45666667 0.47166667 0.49666667 0.42333333\n",
            " 0.45666667 0.47166667]\n",
            "  warnings.warn(\n"
          ]
        }
      ],
      "source": [
        "from sklearn.linear_model import LogisticRegression\n",
        "from sklearn.tree import DecisionTreeClassifier\n",
        "from sklearn.neighbors import KNeighborsClassifier\n",
        "from sklearn.ensemble import RandomForestClassifier\n",
        "\n",
        "from sklearn.metrics import classification_report, confusion_matrix\n",
        "from sklearn.model_selection import GridSearchCV\n",
        "\n",
        "import pandas as pd\n",
        "from sklearn.linear_model import LogisticRegression\n",
        "from sklearn.svm import SVC\n",
        "from sklearn.ensemble import RandomForestClassifier\n",
        "from sklearn.ensemble import GradientBoostingClassifier\n",
        "from sklearn.pipeline import Pipeline\n",
        "from sklearn.model_selection import GridSearchCV, RandomizedSearchCV\n",
        "from sklearn.tree import DecisionTreeClassifier\n",
        "from sklearn.naive_bayes import MultinomialNB\n",
        "from sklearn.neighbors import KNeighborsClassifier\n",
        "from sklearn.metrics import *\n",
        "\n",
        "\n",
        "# setup classifiers\n",
        "clf1 = RandomForestClassifier(random_state=1)\n",
        "clf2 = SVC(probability=True, random_state=1)\n",
        "clf3 = LogisticRegression(random_state=1)\n",
        "clf4 = DecisionTreeClassifier(random_state=1)\n",
        "clf5 = KNeighborsClassifier()\n",
        "clf6 = MultinomialNB()\n",
        "clf7 = GradientBoostingClassifier(random_state=1)\n",
        "\n",
        "# Initiaze the hyperparameters for each dictionary\n",
        "param1 = {}\n",
        "param1['classifier__n_estimators'] = [1,10, 50, 100, 250]\n",
        "param1['classifier__max_depth'] = [5, 10, 20]\n",
        "param1['classifier__class_weight'] = [None, {0:1,1:5}, {0:1,1:10}, {0:1,1:25}]\n",
        "param1['classifier'] = [clf1]\n",
        "\n",
        "param2 = {}\n",
        "param2['classifier__C'] = [10**-2, 10**-1, 10**0, 10**1, 10**2]\n",
        "param2['classifier__class_weight'] = [None, {0:1,1:5}, {0:1,1:10}, {0:1,1:25}]\n",
        "param2['classifier'] = [clf2]\n",
        "\n",
        "param3 = {}\n",
        "param3['classifier__C'] = [10**-2, 10**-1, 10**0, 10**1, 10**2]\n",
        "param3['classifier__penalty'] = [None, 'l2']\n",
        "param3['classifier__class_weight'] = [None, {0:1,1:5}, {0:1,1:6}, {0:1,1:7}]\n",
        "param3['classifier'] = [clf3]\n",
        "\n",
        "param4 = {}\n",
        "param4['classifier__max_depth'] = [5,10,25,None]\n",
        "param4['classifier__min_samples_split'] = [2,5,10]\n",
        "param4['classifier__class_weight'] = [{0:1,1:2}, {0:1,1:3}, {0:1,1:4}, {0:1,1:5}]\n",
        "param4['classifier'] = [clf4]\n",
        "\n",
        "param5 = {}\n",
        "param5['classifier__n_neighbors'] = [2,5,10,25,50]\n",
        "param5['classifier'] = [clf5]\n",
        "\n",
        "param6 = {}\n",
        "param6['classifier__alpha'] = [10**0, 10**1, 10**2]\n",
        "param6['classifier'] = [clf6]\n",
        "\n",
        "param7 = {}\n",
        "param7['classifier__n_estimators'] = [10, 50, 100, 250]\n",
        "param7['classifier__max_depth'] = [5, 10, 20]\n",
        "param7['classifier'] = [clf7]\n",
        "\n",
        "pipeline = Pipeline([('classifier', clf1)])\n",
        "params = [param1, param2, param3, param4, param5, param6, param7]\n",
        "\n",
        "gs = GridSearchCV(pipeline, params, cv=5, n_jobs=-1, scoring='roc_auc',refit='precision').fit(X_train, y_train)\n",
        "\n",
        "print(gs.best_score_)\n",
        "print(gs.best_estimator_)\n",
        "print(gs.best_params_)\n",
        "\n",
        "\n",
        "# Test data performance\n",
        "print(\"Test Precision:\",precision_score(gs.predict(X_valid), y_valid))\n",
        "print(\"Test Recall:\",recall_score(gs.predict(X_valid), y_valid))\n",
        "print(\"Test ROC AUC Score:\",roc_auc_score(gs.predict(X_valid), y_valid))\n"
      ]
    },
    {
      "cell_type": "code",
      "execution_count": 8,
      "metadata": {},
      "outputs": [
        {
          "name": "stdout",
          "output_type": "stream",
          "text": [
            "LR               precision    recall  f1-score   support\n",
            "\n",
            "           0       0.57      0.73      0.64        11\n",
            "           1       0.70      0.54      0.61        13\n",
            "\n",
            "    accuracy                           0.62        24\n",
            "   macro avg       0.64      0.63      0.62        24\n",
            "weighted avg       0.64      0.62      0.62        24\n",
            "\n",
            "[[8 3]\n",
            " [6 7]]\n"
          ]
        }
      ],
      "source": [
        "\n",
        "clf_best = LogisticRegression(C=1, class_weight={0: 1, 1: 5}, penalty=None, random_state=1)\n",
        "clf_best.fit(X_train, y_train)\n",
        "\n",
        "pred_best = clf_best.predict(X_valid)\n",
        "\n",
        "print('LR', classification_report(y_valid, pred_best))\n",
        "print(confusion_matrix(y_valid, pred_best))\n"
      ]
    }
  ],
  "metadata": {
    "colab": {
      "name": "assignment.ipynb",
      "provenance": []
    },
    "kernelspec": {
      "display_name": "Python 3",
      "language": "python",
      "name": "python3"
    },
    "language_info": {
      "codemirror_mode": {
        "name": "ipython",
        "version": 3
      },
      "file_extension": ".py",
      "mimetype": "text/x-python",
      "name": "python",
      "nbconvert_exporter": "python",
      "pygments_lexer": "ipython3",
      "version": "3.10.9"
    }
  },
  "nbformat": 4,
  "nbformat_minor": 0
}
