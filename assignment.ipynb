{
  "cells": [
    {
      "cell_type": "markdown",
      "metadata": {
        "id": "7SXpaKwwGe5x"
      },
      "source": [
        "# TM10007 Assignment template"
      ]
    },
    {
      "cell_type": "code",

      "execution_count": 135,
      "metadata": {
        "colab": {
          "base_uri": "https://localhost:8080/"
        },
        "id": "CiDn2Sk-VWqE",
        "outputId": "1f614f10-442b-422d-8b71-8c0039485b2b"
      },
      "outputs": [
        {
          "output_type": "stream",
          "name": "stdout",
          "text": [
            "  Preparing metadata (setup.py) ... \u001b[?25l\u001b[?25hdone\n"
          ]
        }
      ],
      "source": [
        "# Run this to use from colab environment\n",
        "# !pip install -q --upgrade git+https://github.com/jveenland/tm10007_ml.git"

      ]
    },
    {
      "cell_type": "markdown",

      "source": [
        "# Importing packages"
      ],
      "metadata": {
        "id": "g1cum_GWnJzM"
      }
    },
    {
      "cell_type": "code",
      "source": [
        "# General packages\n",
        "import numpy as np\n",
        "import pandas as pd\n",
        "import matplotlib.pyplot as plt\n",
        "from sklearn import datasets as ds\n",
        "import seaborn\n",
        "\n",
        "# Classifiers\n",
        "from sklearn import model_selection\n",
        "from sklearn import metrics\n",
        "\n",
        "# Preprocessing steps\n",
        "from sklearn.impute import SimpleImputer\n",
        "from sklearn.decomposition import PCA\n",
        "from sklearn.pipeline import Pipeline\n",
        "from scipy.stats import shapiro\n",
        "from sklearn.preprocessing import StandardScaler\n",
        "from sklearn.preprocessing import MinMaxScaler\n",
        "from sklearn.preprocessing import RobustScaler\n",
        "\n",
        "# Feature selection\n",
        "from sklearn.feature_selection import RFECV\n",
        "from sklearn.linear_model import LogisticRegression\n",
        "from sklearn.model_selection import StratifiedKFold"
      ],
      "metadata": {
        "id": "RPltM9lAmbIn"
      },
      "execution_count": 141,
      "outputs": []
    },
    {
      "cell_type": "markdown",
      "metadata": {
        "id": "bXiW521Kl09k"
      },
      "source": [
        "# Data loading and cleaning\n",

        "\n",
        "Below are functions to load the dataset of your choice. After that, it is all up to you to create and evaluate a classification method. Beware, there may be missing values in these datasets. Good luck!"
      ]
    },
    {
      "cell_type": "code",
      "execution_count": null,
      "metadata": {

        "colab": {
          "base_uri": "https://localhost:8080/"
        },
        "id": "-NE_fTbKGe5z",
        "outputId": "c91a4e43-2e42-459f-8bbc-df0cf7102aa9"
      },
      "outputs": [
        {
          "output_type": "stream",
          "name": "stdout",
          "text": [
            "The number of samples: 115\n",
            "The number of columns: 494\n"

          ]
        }
      ],
      "source": [

        "## Data loading functions. Uncomment the one you want to use\n",
        "# from worcgist.load_data import load_dat\n",
        "from worclipo.load_data import load_data\n",

        "#from worcliver.load_data import load_data\n",
        "#from ecg.load_data import load_data\n",
        "\n",
        "data = load_data()\n",
        "print(f'The number of samples: {len(data.index)}')\n",
        "print(f'The number of columns: {len(data.columns)}')\n",
        "\n"
      ]
    },
    {

      "cell_type": "markdown",
      "source": [
        "## Creating a split in the data\n",
        "\n",
        "A training and test set are created. The training set will be used to fit the classifier, while the test set is remained untouched until it is used for testing the trained classifier.\n",
        "\n",
        "Split is stratified so labels are present in both sets in same proportions."
      ],
      "metadata": {
        "id": "EnN20JHuvvaq"
      }
    },
    {
      "cell_type": "code",
      "source": [
        "# Extract columns with labels\n",
        "Y = data.pop('label').replace({'lipoma':0, 'liposarcoma':1}) #moeten we misschien nog ook de ID poppen?\n",
        "\n",
        "# Extract the rest of the data (without the labels)\n",
        "X = data\n",
        "\n",
        "X_train, X_test, Y_train, Y_test = model_selection.train_test_split(X, Y, test_size=0.2, stratify=Y) # ONDERBOUWEN IN REPORT\n",
        "\n",
        "print(f'Size of training set: {X_train.shape}')\n",
        "print(f'Size of test set: {X_test.shape}')"
      ],
      "metadata": {
        "id": "qTjJAJ-7vtzg",
        "outputId": "969c61e0-7476-4e7d-edf6-9639fa45bb1f",
        "colab": {
          "base_uri": "https://localhost:8080/"
        }
      },
      "execution_count": null,
      "outputs": [
        {
          "output_type": "stream",
          "name": "stdout",
          "text": [
            "58\n",
            "Size of training set: (92, 493)\n",
            "Size of test set: (23, 493)\n"
          ]
        }
      ]
    },
    {
      "cell_type": "markdown",
      "source": [
        "## Inspecting distribution of features\n",
        "To determine data distribution of train set"
      ],
      "metadata": {
        "id": "pJBR7ywnn50T"
      }
    },
    {
      "cell_type": "markdown",
      "source": [
        "### Visually inspect distribution of features"
      ],
      "metadata": {
        "id": "q7JVrtMS2mih"
      }
    },
    {
      "cell_type": "code",
      "source": [
        "# Check if Gaussian distribution per column\n",
        "# if Gaussian distribution, take mean for filling empty cells (later in script)\n",
        "# if not Gaussion distribution (and outliers or skewed), take median for filling empty cells (later in script)\n",
        "\n",
        "# plt.hist(X_train.iloc[:, 15], bins=30, edgecolor='k') # Change number of colum to see distribution (between width dataframe)\n",
        "plt.hist(X_train['PREDICT_original_tf_Gabor_entropy_F0.2_A1.57'], bins=30, edgecolor='k') # Change number of colum to see distribution (between width dataframe)\n",
        "\n",
        "\n",
        "plt.title('Distribution of Feature')\n",
        "plt.xlabel('Value')\n",
        "plt.ylabel('Frequency')\n",
        "plt.show()\n",
        "\n",
        "# print(X_train.head())"
      ],
      "metadata": {
        "colab": {
          "base_uri": "https://localhost:8080/",
          "height": 472
        },
        "id": "Llz2aPWlneOo",
        "outputId": "8f525050-c5d2-402a-f69b-ef5445e4e261"
      },
      "execution_count": null,
      "outputs": [
        {
          "output_type": "display_data",
          "data": {
            "text/plain": [
              "<Figure size 640x480 with 1 Axes>"
            ],
            "image/png": "[encoded data removed]"
          },
          "metadata": {}
        }
      ]
    },
    {
      "cell_type": "markdown",
      "source": [
        "### Determining data distribution of train set"
      ],
      "metadata": {
        "id": "Ae7nQStr2yV-"
      }
    },
    {
      "cell_type": "code",
      "source": [
        "# Definieer alpha voor de significantietest BEARGUMENTEREN WAAROM DEZE TEST IN REPORT + WAARDE\n",
        "alpha = 0.05\n",
        "\n",
        "# Initialiseer een teller voor normaal verdeelde kolommen\n",
        "normal_distributed_columns_count = 0\n",
        "\n",
        "# Loop door elke kolom in de DataFrame en voer Shapiro-Wilk test uit\n",
        "for column in X_train:\n",
        "    stat, p = shapiro(X_train[column])\n",
        "    if p > alpha:\n",
        "        # print(column)\n",
        "        normal_distributed_columns_count += 1  # Tel kolom als normaal verdeeld\n",
        "\n",
        "print(f\"Aantal normaal verdeelde kolommen: {normal_distributed_columns_count}\")\n"
      ],
      "metadata": {
        "id": "AjK86BtWyR-6",
        "outputId": "2661ec13-4e0f-4af9-8f78-54d1ccbe42ba",
        "colab": {
          "base_uri": "https://localhost:8080/"
        }
      },
      "execution_count": null,
      "outputs": [
        {
          "output_type": "stream",
          "name": "stdout",
          "text": [
            "Aantal normaal verdeelde kolommen: 75\n"
          ]
        }
      ]
    },
    {
      "cell_type": "code",
      "source": [
        "# print(X_train.head())\n",
        "# print(Y.head())"
      ],
      "metadata": {
        "id": "oUn0-q7for8E"
      },
      "execution_count": null,
      "outputs": []
    },
    {
      "cell_type": "markdown",
      "source": [
        "## Preprocessing Data"
      ],
      "metadata": {
        "id": "cL18MbR93P-I"
      }
    },
    {
      "cell_type": "markdown",
      "source": [
        "### Missing Values\n",
        "Determining cells with missing values and filling these"
      ],
      "metadata": {
        "id": "U8-WunWt4Q6p"
      }
    },
    {
      "cell_type": "code",
      "source": [
        "# Check missing values\n",
        "missing_values = X_train.isnull().sum()\n",
        "print(len(missing_values[missing_values > 0]))"
      ],
      "metadata": {
        "id": "bWCx7hqU4Yr7",
        "outputId": "4a1e1b5d-fca3-4769-9533-e7e49e75a7b8",
        "colab": {
          "base_uri": "https://localhost:8080/"
        }
      },
      "execution_count": null,
      "outputs": [
        {
          "output_type": "stream",
          "name": "stdout",
          "text": [
            "0\n"
          ]
        }
      ]
    },
    {
      "cell_type": "code",
      "source": [
        "# Filling missing values with correct value based on type of distribution per column\n",
        "\n",
        "# Definieer alpha voor de significantietest BEARGUMENTEREN WAAROM DEZE TEST IN REPORT + WAARDE\n",
        "alpha = 0.05\n",
        "\n",
        "# Initialiseer een teller voor normaal verdeelde kolommen\n",
        "normal_distributed_columns_count = 0\n",
        "not_normal_distributed_columns_count = 0\n",
        "nans_found_in_column_count = 0\n",
        "\n",
        "# Loop door elke kolom in de DataFrame en voer Shapiro-Wilk test uit\n",
        "for column in X_train:\n",
        "    stat, p = shapiro(X_train[column])\n",
        "    if p > alpha:\n",
        "        # print(column)\n",
        "        normal_distributed_columns_count += 1  # Tel kolom als normaal verdeeld\n",
        "        if X_train[column].isna().sum() > 0:\n",
        "            X_train[column].fillna(X_train[column].mean)\n",
        "            nans_found_in_column_count += 1\n",
        "    else:\n",
        "        not_normal_distributed_columns_count += 1  # Tel kolom als normaal verdeeld\n",
        "        if X_train[column].isna().sum() > 0:\n",
        "            X_train[column].fillna(X_train[column].median)\n",
        "            nans_found_in_column_count += 1\n",
        "\n",
        "print(f'The number of normal distributed columns is: {normal_distributed_columns_count}')\n",
        "print(f'The number of not normal distributed columns is: {not_normal_distributed_columns_count}')\n",
        "print(f'The number of columns where nans were filled: {nans_found_in_column_count}')"
      ],
      "metadata": {
        "id": "CpaHZZda6SE1",
        "outputId": "49947a20-4083-40de-9053-5257f26137d8",
        "colab": {
          "base_uri": "https://localhost:8080/"
        }
      },
      "execution_count": null,
      "outputs": [
        {
          "output_type": "stream",
          "name": "stdout",
          "text": [
            "The number of normal distributed columns is: 75\n",
            "The number of not normal distributed columns is: 418\n",
            "The number of columns where nans were filled: 0\n"
          ]
        }
      ]
    },
    {
      "cell_type": "markdown",
      "source": [
        "### Feature Scaling\n",
        "Scale features in Train set"
      ],
      "metadata": {
        "id": "ZB1ABL14902-"
      }
    },
    {
      "cell_type": "code",
      "source": [
        "# Define counter for columns with many outliers\n",
        "columns_with_many_outliers_count = 0\n",
        "\n",
        "for column in X_train:\n",
        "    Q1 = X_train[column].quantile(0.25)\n",
        "    Q3 = X_train[column].quantile(0.75)\n",
        "    IQR = Q3 - Q1\n",
        "\n",
        "    # Calculate number of outliers\n",
        "    outliers = X_train[(X_train[column] < (Q1 - 1.5 * IQR)) | (X_train[column] > (Q3 + 1.5 * IQR))]\n",
        "    outliers_count = outliers.shape[0]\n",
        "\n",
        "    # Define what 'many' outliers mean\n",
        "    if outliers_count > 0.05 * X_train.shape[0]:\n",
        "        columns_with_many_outliers_count += 1\n",
        "        # print(f\"{column} has many outliers: {outliers_count} outliers\")\n",
        "\n",
        "print(f\"Number of columns with many outliers: {columns_with_many_outliers_count}\")\n"
      ],
      "metadata": {
        "id": "L5ePShRwmJrY",
        "outputId": "3630d543-2613-4282-9edd-13627d43cd73",
        "colab": {
          "base_uri": "https://localhost:8080/"
        }
      },
      "execution_count": 139,
      "outputs": [
        {
          "output_type": "stream",
          "name": "stdout",
          "text": [
            "Number of columns with many outliers: 187\n"
          ]
        }
      ]
    },
    {
      "cell_type": "code",
      "source": [
        "# Scaler\n",
        "\n",
        "# scaler = StandardScaler()\n",
        "# scaler = MinMaxScaler()\n",
        "scaler = RobustScaler()\n",
        "\n",
        "X_train_scaled = scaler.fit_transform(X_train)\n",
        "X_train_scaled_df = pd.DataFrame(X_train_scaled, columns=X_train.columns, index=X_train.index)\n",
        "\n"
      ],
      "metadata": {
        "id": "vR4vx1oJoZBn"
      },
      "execution_count": 165,
      "outputs": []
    },
    {
      "cell_type": "markdown",
      "source": [
        "# Inspecting data"
      ],
      "metadata": {
        "id": "7afe2lGEowDL"
      }
    },
    {
      "cell_type": "markdown",
      "source": [
        "## Feature selection and extraction"
      ],
      "metadata": {
        "id": "bTxLT12kH1u5"
      }
    },
    {
      "cell_type": "code",
      "source": [
        "## Without scaling (for X_train)\n",
        "# min_features = 1\n",
        "# clf  = LogisticRegression(solver='liblinear')\n",
        "# cv = StratifiedKFold(2)\n",
        "\n",
        "# rfecv = RFECV(\n",
        "#     estimator=clf,\n",
        "#     cv=cv,\n",
        "#     # scoring = \"accuracy\",\n",
        "#     min_features_to_select = min_features\n",
        "# )\n",
        "\n",
        "# rfecv.fit(X_train, Y_train)\n",
        "\n",
        "# print(f\"Optimal number of features: {rfecv.n_features_}\")\n",
        "\n",
        "# if rfecv.n_features_ > len(X_train.index):\n",
        "#   pca = decomposition.PCA(n_components=0.95)\n",
        "#   pca.fit(X_train)\n",
        "#   X_train = pca.transform(X_train)\n",
        "\n",
        "\n",
        "## With / after scaling (for X_train_robust_scaled_df)\n",
        "min_features = 1\n",
        "clf  = LogisticRegression(solver='liblinear')\n",
        "cv = StratifiedKFold(2)\n",
        "\n",
        "rfecv = RFECV(\n",
        "    estimator=clf,\n",
        "    cv=cv,\n",
        "    # scoring = \"accuracy\",\n",
        "    min_features_to_select = min_features\n",
        ")\n",
        "\n",
        "rfecv.fit(X_train_scaled_df, Y_train)\n",
        "\n",
        "print(f\"Optimal number of features: {rfecv.n_features_}\")\n",
        "\n",
        "if rfecv.n_features_ > len(X_train_scaled_df.index):\n",
        "    pca = decomposition.PCA(n_components=0.95)\n",
        "    pca.fit(X_train_scaled_df)\n",
        "    X_train_scaled_df = pca.transform(X_train_scaled_df)\n",
        "\n",
        "\n"
      ],
      "metadata": {
        "id": "pY2smu5SH9NH",
        "colab": {
          "base_uri": "https://localhost:8080/"
        },
        "outputId": "fd9a92a8-6105-4bef-f75c-070e07479e6e"
      },
      "execution_count": 164,
      "outputs": [
        {
          "output_type": "stream",
          "name": "stdout",
          "text": [
            "Optimal number of features: 9\n"
          ]
        }

      ]
    }
  ],
  "metadata": {
    "colab": {
      "name": "assignment.ipynb",

      "provenance": [],
      "toc_visible": true

    },
    "kernelspec": {
      "display_name": "Python 3",
      "language": "python",
      "name": "python3"
    },
    "language_info": {
      "codemirror_mode": {
        "name": "ipython",
        "version": 3
      },
      "file_extension": ".py",
      "mimetype": "text/x-python",
      "name": "python",
      "nbconvert_exporter": "python",
      "pygments_lexer": "ipython3",
      "version": "3.8.5"
    }
  },
  "nbformat": 4,
  "nbformat_minor": 0
}