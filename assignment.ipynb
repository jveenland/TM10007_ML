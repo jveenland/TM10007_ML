{
  "cells": [
    {
      "cell_type": "markdown",
      "metadata": {
        "id": "7SXpaKwwGe5x"
      },
      "source": [
        "# TM10007 Assignment template"
      ]
    },
    {
      "cell_type": "markdown",
      "metadata": {
        "id": "YNIBQZig6LPp"
      },
      "source": [
        "## Data loading and cleaning\n",
        "\n",
        "Below are functions to load the dataset of your choice. After that, it is all up to you to create and evaluate a classification method. Beware, there may be missing values in these datasets. Good luck!"
      ]
    },
    {
      "cell_type": "code",
      "execution_count": 50,
      "metadata": {
        "colab": {
          "base_uri": "https://localhost:8080/",
          "height": 397
        },
        "id": "-NE_fTbKGe5z",
        "outputId": "eec4b482-f998-4f1b-e736-3b9db9970032"
      },
      "outputs": [
        {
          "name": "stdout",
          "output_type": "stream",
          "text": [
            "The number of samples: 115\n",
            "The number of columns: 494\n",
            "<class 'pandas.core.frame.DataFrame'>\n"
          ]
        }
      ],
      "source": [
        "# import packages\n",
        "import os\n",
        "import pandas as pd\n",
        "import numpy as np\n",
        "import matplotlib.pyplot as plt\n",
        "from sklearn import metrics\n",
        "from sklearn.model_selection import train_test_split\n",
        "from sklearn.preprocessing import StandardScaler, LabelEncoder\n",
        "from sklearn.impute import SimpleImputer\n",
        "from sklearn.feature_selection import VarianceThreshold\n",
        "\n",
        "# Classifiers\n",
        "from sklearn.naive_bayes import GaussianNB\n",
        "from sklearn.discriminant_analysis import LinearDiscriminantAnalysis\n",
        "from sklearn.discriminant_analysis import QuadraticDiscriminantAnalysis\n",
        "from sklearn.linear_model import LogisticRegression\n",
        "from sklearn.linear_model import SGDClassifier\n",
        "from sklearn.tree import DecisionTreeClassifier\n",
        "from sklearn.neighbors import KNeighborsClassifier\n",
        "\n",
        "# import functions\n",
        "from worclipo.load_data import load_data\n",
        "from worclipo.split_set import split_set\n",
        "\n",
        "data = load_data()\n",
        "print(f'The number of samples: {len(data.index)}')\n",
        "print(f'The number of columns: {len(data.columns)}')\n",
        "print(type(data))\n"
      ]
    },
    {
      "attachments": {},
      "cell_type": "markdown",
      "metadata": {},
      "source": [
        "# setting up the data to be processed"
      ]
    },
    {
      "cell_type": "code",
      "execution_count": 51,
      "metadata": {},
      "outputs": [
        {
          "name": "stdout",
          "output_type": "stream",
          "text": [
            "['liposarcoma', 'lipoma']\n",
            "Categories (2, object): ['liposarcoma' < 'lipoma']\n"
          ]
        }
      ],
      "source": [
        "# change lipoma = 1 and liposarcoma = 0 and encode labels\n",
        "group_names = list(set(data.label))\n",
        "data.loc[data['label'] == 'lipoma', 'label'] = 1\n",
        "data.loc[data['label'] == 'liposarcoma', 'label'] = 0\n",
        "data['label'] = pd.cut(data['label'], bins = 2, labels=group_names)\n",
        "print(data['label'].unique())\n",
        "label_diag = LabelEncoder()\n",
        "data['label'] = label_diag.fit_transform(data['label'])\n",
        "\n",
        "# assign X to measurements and y to outcome (lipoma/sarcoma)\n",
        "X = data.drop('label', axis=1)\n",
        "y = data['label']\n",
        "test_size = 0.3"
      ]
    },
    {
      "cell_type": "code",
      "execution_count": 52,
      "metadata": {},
      "outputs": [
        {
          "name": "stdout",
          "output_type": "stream",
          "text": [
            "TEST_set.csv already exists\n",
            "None\n"
          ]
        }
      ],
      "source": [
        "# code that splits the data into test and validation sets if this is not done already\n",
        "\n",
        "split_action = split_set(X,y,test_size)\n",
        "print(split_action)\n",
        "\n",
        "# if os.path.exists('./TEST_set.csv'):\n",
        "#     print('TEST_set.csv already exists')\n",
        "# else:\n",
        "#     split_set(X,y,test_size)\n",
        "#     print('TEST_set.csv does not exist, generating new test and training sets')"
      ]
    },
    {
      "attachments": {},
      "cell_type": "markdown",
      "metadata": {},
      "source": [
        "## import the training set"
      ]
    },
    {
      "cell_type": "code",
      "execution_count": 53,
      "metadata": {},
      "outputs": [
        {
          "name": "stdout",
          "output_type": "stream",
          "text": [
            "['liposarcoma', 'lipoma']\n",
            "Categories (2, object): ['liposarcoma' < 'lipoma']\n"
          ]
        }
      ],
      "source": [
        "TRAIN = pd.read_csv('TRAIN_set.csv', index_col=0)\n",
        "X_train = TRAIN.drop('label', axis=1)\n",
        "y_train = TRAIN['label']\n",
        "\n",
        "TRAIN['label'] = pd.cut(TRAIN['label'], bins = 2, labels=group_names)\n",
        "print(TRAIN['label'].unique())\n",
        "label_diag = LabelEncoder()\n",
        "TRAIN['label'] = label_diag.fit_transform(TRAIN['label'])\n",
        "\n",
        "# split into training and validation set\n",
        "X_train, X_valid, y_train, y_valid = train_test_split(X_train, y_train, test_size=0.3, random_state=10)\n",
        "\n",
        "# scale the training set\n",
        "sc = StandardScaler()\n",
        "X_train = sc.fit_transform(X_train)\n",
        "X_valid = sc.transform(X_valid)\n",
        "\n",
        "# preprocess the data \n",
        "if not str in data.values:\n",
        "    print(f'All values are numerical.')\n",
        "if np.isnan(X_train).any():\n",
        "    imp = SimpleImputer(missing_value=np.nan, strategy='mean')\n",
        "    X_train.iloc[:,:] = imp.fit_transform(X_train)\n",
        "    X_valid.iloc[:,:] = imp.fit(X_valid)\n",
        "    print(f'All NaN values replaced by mean value of the column.')\n",
        "\n",
        "# remove features with zero variance\n",
        "print(f'Size before removal zero variances: ', X_train.shape)\n",
        "vt = VarianceThreshold(threshold=0)\n",
        "X_train = vt.fit_transform(X_train)\n",
        "X_test = vt.transform(X_valid)\n",
        "print(f'Size after removal zero variance: ', X_train.shape)"
      ]
    },
    {
      "attachments": {},
      "cell_type": "markdown",
      "metadata": {},
      "source": [
        "# Classify"
      ]
    },
    {
      "cell_type": "code",
      "execution_count": 54,
      "metadata": {},
      "outputs": [
        {
          "name": "stdout",
          "output_type": "stream",
          "text": [
            "rfc               precision    recall  f1-score   support\n",
            "\n",
            "           0       0.56      0.91      0.69        11\n",
            "           1       0.83      0.38      0.53        13\n",
            "\n",
            "    accuracy                           0.62        24\n",
            "   macro avg       0.69      0.65      0.61        24\n",
            "weighted avg       0.71      0.62      0.60        24\n",
            "\n",
            "[[10  1]\n",
            " [ 8  5]]\n"
          ]
        }
      ],
      "source": [
        "\n",
        "# try a classifier\n",
        "from sklearn.ensemble import RandomForestClassifier\n",
        "from sklearn.metrics import classification_report, confusion_matrix\n",
        "rfc = RandomForestClassifier(n_estimators=500)\n",
        "rfc.fit(X_train, y_train)\n",
        "pred_rfc = rfc.predict(X_valid)\n",
        "\n",
        "print('rfc', classification_report(y_valid, pred_rfc))\n",
        "print(confusion_matrix(y_valid, pred_rfc))"
      ]
    }
  ],
  "metadata": {
    "colab": {
      "name": "assignment.ipynb",
      "provenance": []
    },
    "kernelspec": {
      "display_name": "Python 3",
      "language": "python",
      "name": "python3"
    },
    "language_info": {
      "codemirror_mode": {
        "name": "ipython",
        "version": 3
      },
      "file_extension": ".py",
      "mimetype": "text/x-python",
      "name": "python",
      "nbconvert_exporter": "python",
      "pygments_lexer": "ipython3",
      "version": "3.10.9"
    }
  },
  "nbformat": 4,
  "nbformat_minor": 0
}
